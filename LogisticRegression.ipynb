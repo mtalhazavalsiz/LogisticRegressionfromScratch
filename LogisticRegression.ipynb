{
 "cells": [
  {
   "cell_type": "code",
   "execution_count": 1,
   "metadata": {
    "id": "6_pm_Jz3tJT0"
   },
   "outputs": [],
   "source": [
    "import numpy as np\n",
    "import pandas as pd"
   ]
  },
  {
   "cell_type": "code",
   "execution_count": 2,
   "metadata": {
    "id": "KoDM1fIAtyV3"
   },
   "outputs": [],
   "source": [
    "dataset = pd.read_csv('/content/dataset.csv') \n",
    "dataset.shape\n",
    "\n",
    "train, validation, test = \\\n",
    "              np.split(dataset.sample(frac=1, random_state=42), \n",
    "                       [int(.7*len(dataset)), int(.8*len(dataset))])"
   ]
  },
  {
   "cell_type": "code",
   "execution_count": 3,
   "metadata": {
    "colab": {
     "base_uri": "https://localhost:8080/"
    },
    "id": "-psuXDVfvDXq",
    "outputId": "f692d167-ac46-45a9-93d3-177bd1ed661a"
   },
   "outputs": [
    {
     "name": "stdout",
     "output_type": "stream",
     "text": [
      "(42000, 13)\n",
      "(6000, 13)\n",
      "(12000, 13)\n"
     ]
    }
   ],
   "source": [
    "# I want to see the shape of all subsets to preprocess them by using Numpy, so;\n",
    "\n",
    "print(train.shape)\n",
    "print(validation.shape)\n",
    "print(test.shape)"
   ]
  },
  {
   "cell_type": "code",
   "execution_count": 4,
   "metadata": {
    "id": "scdNS_A8tyYn"
   },
   "outputs": [],
   "source": [
    "#Data preprocess is necessary, we need to take the last columns as labels and remainings are features.\n",
    "#We have 12 features and 1 label.\n",
    "#Converting dataframe to np array is done in this code.\n",
    "\n",
    "train_features = train.iloc[:,:12]\n",
    "train_labels = train.iloc[:,12:13]\n",
    "train_features_arr = np.asarray(train_features)\n",
    "train_labels_arr = train_labels.to_numpy()\n",
    "\n",
    "test_features = test.iloc[:,:12]\n",
    "test_labels = test.iloc[:,12:13]\n",
    "test_features_arr = np.asarray(test_features)\n",
    "test_labels_arr = test_labels.to_numpy()\n",
    "\n",
    "validation_features = validation.iloc[:,:12]\n",
    "validation_labels = validation.iloc[:,12:13]\n",
    "validation_features_arr = np.asarray(validation_features)\n",
    "validation_labels_arr = validation_labels.to_numpy()\n"
   ]
  },
  {
   "cell_type": "code",
   "execution_count": 5,
   "metadata": {
    "id": "K9rmK-ZI0fzJ"
   },
   "outputs": [],
   "source": [
    "train_features_arr = (train_features_arr-np.min(train_features_arr))/(np.max(train_features_arr)-np.min(train_features_arr))"
   ]
  },
  {
   "cell_type": "markdown",
   "metadata": {
    "id": "NqQvqv2XR5Tv"
   },
   "source": [
    "# **Mini Batch**"
   ]
  },
  {
   "cell_type": "code",
   "execution_count": 38,
   "metadata": {
    "id": "x35A5kaAPOmM"
   },
   "outputs": [],
   "source": [
    "def sig(features,weights):\n",
    "  z = np.exp(-1*np.matmul(features,weights))\n",
    "  result = 1/(1+z)\n",
    "  return result\n",
    "\n",
    "def ascent(features,weights,y):\n",
    "  return np.matmul(features.T,y- sig(features,weights))\n",
    "  \n",
    "def prediction(features,weights):\n",
    "  pred = np.zeros(features.shape[0])\n",
    "  temp = np.matmul(features, weights)\n",
    "  for i in range(features.shape[0]):\n",
    "      if(temp[i] > 0):\n",
    "          pred[i] = 1\n",
    "      else:\n",
    "          pred[i] = 0\n",
    "  return pred\n",
    "\n",
    "def createMiniBatch(arr, size):\n",
    "  for i in range(0, len(arr), size):\n",
    "      yield arr[i:i+size]\n",
    "\n",
    "def accCalc(pred, y):\n",
    "  true_cnt = 0\n",
    "  for i in range(y.shape[0]):\n",
    "    if(pred[i] == y[i]):\n",
    "      true_cnt += 1\n",
    "  acc = true_cnt / y.shape[0]\n",
    "  return acc\n",
    "\n",
    "#mini batch func \n",
    "def miniBatchExp(batchSize, epochNum, weights, accArr, lRate):\n",
    "  np.random.seed(0)\n",
    "  for i in range(epochNum):\n",
    "      idx = np.random.permutation(len(train_features_arr))\n",
    "      xRand, yRand = train_features_arr[idx], train_labels_arr[idx]\n",
    "      xMbArr = list(createMiniBatch(xRand, batchSize))\n",
    "      yMbArr = list(createMiniBatch(yRand, batchSize))\n",
    "      for bIdx in range(int(batchSize)):\n",
    "          xMb = xMbArr[bIdx]\n",
    "          yMb = yMbArr[bIdx]\n",
    "          weights += (lRate / batchSize) * (ascent(xMb, weights, yMb)) * xMb.shape[0]\n",
    "      mbPrediction = prediction(validation_features_arr, weights)\n",
    "      accArr[i] = accCalc(mbPrediction, validation_labels_arr)\n"
   ]
  },
  {
   "cell_type": "code",
   "execution_count": 39,
   "metadata": {
    "id": "5_SupOyhTj_A"
   },
   "outputs": [],
   "source": [
    "import time\n",
    "batch_size = 64\n",
    "iterationNo = 100"
   ]
  },
  {
   "cell_type": "code",
   "execution_count": 45,
   "metadata": {
    "colab": {
     "base_uri": "https://localhost:8080/"
    },
    "id": "D9QUPbAO0Iq6",
    "outputId": "417615ff-482b-4062-823c-701956d387b1"
   },
   "outputs": [
    {
     "name": "stdout",
     "output_type": "stream",
     "text": [
      "Acc:  0.6776666666666666 Time:  3.9817965030670166\n"
     ]
    }
   ],
   "source": [
    "batch_no = np.ceil(train_features.shape[0] / batch_size)\n",
    "\n",
    "w1 = np.random.normal(0, 1, size=(train_features.shape[1],1))\n",
    "\n",
    "arr1 = np.zeros((iterationNo))\n",
    "\n",
    "s1 = time.time()\n",
    "miniBatchExp(batch_size, iterationNo, w1, arr1, 10**-3) \n",
    "e1 = time.time()\n",
    "\n",
    "print(\"Acc: \", arr1.max(), \"Time: \", e1 - s1)"
   ]
  },
  {
   "cell_type": "code",
   "execution_count": 47,
   "metadata": {
    "colab": {
     "base_uri": "https://localhost:8080/",
     "height": 331
    },
    "id": "y1tt_aqVoIhi",
    "outputId": "29ec7a33-83d6-483d-ea1a-a8a79ec17ec4"
   },
   "outputs": [
    {
     "name": "stderr",
     "output_type": "stream",
     "text": [
      "WARNING:matplotlib.legend:No handles with labels found to put in legend.\n",
      "WARNING:matplotlib.legend:No handles with labels found to put in legend.\n"
     ]
    },
    {
     "data": {
      "image/png": "[encoded data removed]",
      "text/plain": [
       "<Figure size 432x288 with 1 Axes>"
      ]
     },
     "metadata": {
      "needs_background": "light"
     },
     "output_type": "display_data"
    }
   ],
   "source": [
    "import matplotlib.pyplot as plt\n",
    "\n",
    "x = np.arange(1, 101)\n",
    "y = arr1\n",
    "\n",
    "plt.title(\"Performance Plot based on Batch Size\")\n",
    "plt.ylabel(\"Validation Accuracy\")\n",
    "plt.xlabel(\"Number of epoch\")\n",
    "plt.plot(x, y, color =\"blue\")\n",
    "plt.legend()\n",
    "plt.legend(title='Mini Batch Gradient Ascent Plot')\n",
    "plt.show()"
   ]
  },
  {
   "cell_type": "markdown",
   "metadata": {
    "id": "C8bnS1y9VNd6"
   },
   "source": [
    "# Stochastic Gradient"
   ]
  },
  {
   "cell_type": "code",
   "execution_count": 9,
   "metadata": {
    "id": "qoIZAveXSnKd"
   },
   "outputs": [],
   "source": [
    "def stochasticGradient(epochNum, weights, accArr):\n",
    "  np.random.seed(0)\n",
    "  cnt=0\n",
    "  for i in range(epochNum):\n",
    "      idx = np.random.permutation(len(train_features_arr))\n",
    "      xRand = train_features_arr[idx]\n",
    "      yRand = train_labels_arr[idx]\n",
    "      for bIdx in range(xRand.shape[0]):\n",
    "          rand_feature = xRand[bIdx,:].reshape((xRand.shape[1],1)).T\n",
    "          rand_label = yRand[bIdx,:].reshape((yRand.shape[1],1))\n",
    "          weights += (10 ** -3) * ascent(rand_feature, weights, rand_label)\n",
    "      s_prediction = prediction(validation_features_arr, weights)\n",
    "      accArr[i] = accCalc(s_prediction, validation_labels_arr)"
   ]
  },
  {
   "cell_type": "code",
   "execution_count": 48,
   "metadata": {
    "colab": {
     "base_uri": "https://localhost:8080/"
    },
    "id": "m55tS19VRI77",
    "outputId": "0eb71d14-5adf-4f78-8bf8-6978c4388fb9"
   },
   "outputs": [
    {
     "name": "stdout",
     "output_type": "stream",
     "text": [
      "Acc:  0.6753333333333333 Time:  59.259763956069946\n"
     ]
    }
   ],
   "source": [
    "w2 = np.random.normal(0, 1, size=(train_features.shape[1],1))\n",
    "\n",
    "arr2 = np.zeros((iterationNo))\n",
    "\n",
    "s2 = time.time()\n",
    "stochasticGradient(iterationNo, w2, arr2) \n",
    "e2 = time.time()\n",
    "\n",
    "print(\"Acc: \", arr2.max(), \"Time: \", e2 - s2)\n"
   ]
  },
  {
   "cell_type": "code",
   "execution_count": 60,
   "metadata": {
    "colab": {
     "base_uri": "https://localhost:8080/",
     "height": 331
    },
    "id": "XCVD3AMAv2EC",
    "outputId": "e1a85b44-b5a6-469c-f6cd-30b19a882ce8"
   },
   "outputs": [
    {
     "name": "stderr",
     "output_type": "stream",
     "text": [
      "WARNING:matplotlib.legend:No handles with labels found to put in legend.\n",
      "WARNING:matplotlib.legend:No handles with labels found to put in legend.\n"
     ]
    },
    {
     "data": {
      "image/png": "[encoded data removed]",
      "text/plain": [
       "<Figure size 432x288 with 1 Axes>"
      ]
     },
     "metadata": {
      "needs_background": "light"
     },
     "output_type": "display_data"
    }
   ],
   "source": [
    "import matplotlib.pyplot as plt\n",
    "\n",
    "x = np.arange(1, 101)\n",
    "y = arr2\n",
    "\n",
    "plt.title(\"Performance Plot based on Batch Size\")\n",
    "plt.ylabel(\"Validation Accuracy\")\n",
    "plt.xlabel(\"Number of epoch\")\n",
    "plt.plot(x, y, color =\"blue\")\n",
    "plt.legend()\n",
    "plt.legend(title='Stochastic Gradient Ascent Plot')\n",
    "plt.show()"
   ]
  },
  {
   "cell_type": "markdown",
   "metadata": {
    "id": "AVNcu5VKavNa"
   },
   "source": [
    "# FULL BATCH"
   ]
  },
  {
   "cell_type": "code",
   "execution_count": 49,
   "metadata": {
    "id": "zWTDWctYUMop"
   },
   "outputs": [],
   "source": [
    "def fullBatch(epochNum, weights, accArr, lRate):\n",
    "  np.random.seed(0)\n",
    "  for i in range(iterationNo):\n",
    "      idx = np.random.permutation(len(train_features_arr))\n",
    "      xRand,yRand = train_features_arr[idx], train_labels_arr[idx]\n",
    "      xMbArr = list(createMiniBatch(xRand, xRand.shape[0]))\n",
    "      yMbArr = list(createMiniBatch(yRand, yRand.shape[0]))\n",
    "      weights += (lRate /batch_size) * (ascent(xMbArr[0],weights,yMbArr[0]))*xMbArr[0].shape[0]\n",
    "      fb_prediction = prediction(validation_features_arr, weights)\n",
    "      accArr[i] = accCalc(fb_prediction, validation_labels_arr)\n"
   ]
  },
  {
   "cell_type": "code",
   "execution_count": 51,
   "metadata": {
    "colab": {
     "base_uri": "https://localhost:8080/"
    },
    "id": "28WG-YEsa40-",
    "outputId": "1ff9a547-02d0-4872-b243-e50687e9c582"
   },
   "outputs": [
    {
     "name": "stderr",
     "output_type": "stream",
     "text": [
      "<ipython-input-38-a5cbce557ae8>:2: RuntimeWarning: overflow encountered in exp\n",
      "  z = np.exp(-1*np.matmul(features,weights))\n"
     ]
    },
    {
     "name": "stdout",
     "output_type": "stream",
     "text": [
      "Acc:  0.6891666666666667 Time:  3.9423913955688477\n"
     ]
    }
   ],
   "source": [
    "w3 = np.random.normal(0, 1, size=(train_features.shape[1],1))\n",
    "\n",
    "arr3 = np.zeros((iterationNo))\n",
    "\n",
    "s3 = time.time()\n",
    "fullBatch(iterationNo, w3, arr3, 10 ** -3)\n",
    "e3 = time.time()\n",
    "\n",
    "print(\"Acc: \", arr3.max(), \"Time: \", e3 - s3)"
   ]
  },
  {
   "cell_type": "code",
   "execution_count": 62,
   "metadata": {
    "colab": {
     "base_uri": "https://localhost:8080/",
     "height": 331
    },
    "id": "DpvcUHr4wCE6",
    "outputId": "471a4c63-992a-498f-a3d2-7b509275e4d8"
   },
   "outputs": [
    {
     "name": "stderr",
     "output_type": "stream",
     "text": [
      "WARNING:matplotlib.legend:No handles with labels found to put in legend.\n",
      "WARNING:matplotlib.legend:No handles with labels found to put in legend.\n"
     ]
    },
    {
     "data": {
      "image/png": "[encoded data removed]",
      "text/plain": [
       "<Figure size 432x288 with 1 Axes>"
      ]
     },
     "metadata": {
      "needs_background": "light"
     },
     "output_type": "display_data"
    }
   ],
   "source": [
    "import matplotlib.pyplot as plt\n",
    "\n",
    "x = np.arange(1, 101)\n",
    "y = arr3\n",
    "\n",
    "plt.title(\"Performance Plot based on Batch Size\")\n",
    "plt.ylabel(\"Validation Accuracy\")\n",
    "plt.xlabel(\"Number of epoch\")\n",
    "plt.plot(x, y, color =\"blue\")\n",
    "plt.legend()\n",
    "plt.legend(title='Full Batch Batch Gradient Ascent Plot')\n",
    "plt.show()"
   ]
  },
  {
   "cell_type": "markdown",
   "metadata": {
    "id": "wiqljnNkPnPU"
   },
   "source": [
    "The best is Full Batch, therefore its confusion matrix will be displayed."
   ]
  },
  {
   "cell_type": "code",
   "execution_count": 63,
   "metadata": {
    "colab": {
     "base_uri": "https://localhost:8080/",
     "height": 130
    },
    "id": "HVOZ9o5VbSM3",
    "outputId": "d6b7a398-2dff-45f1-b286-8e307a47abf4"
   },
   "outputs": [
    {
     "name": "stdout",
     "output_type": "stream",
     "text": [
      "3807 170 1980 43\n"
     ]
    },
    {
     "data": {
      "text/html": [
       "\n",
       "  <div id=\"df-92194d96-fb01-48e6-bc50-ec4b7e97419e\">\n",
       "    <div class=\"colab-df-container\">\n",
       "      <div>\n",
       "<style scoped>\n",
       "    .dataframe tbody tr th:only-of-type {\n",
       "        vertical-align: middle;\n",
       "    }\n",
       "\n",
       "    .dataframe tbody tr th {\n",
       "        vertical-align: top;\n",
       "    }\n",
       "\n",
       "    .dataframe thead th {\n",
       "        text-align: right;\n",
       "    }\n",
       "</style>\n",
       "<table border=\"1\" class=\"dataframe\">\n",
       "  <thead>\n",
       "    <tr style=\"text-align: right;\">\n",
       "      <th></th>\n",
       "      <th>0</th>\n",
       "      <th>1</th>\n",
       "    </tr>\n",
       "  </thead>\n",
       "  <tbody>\n",
       "    <tr>\n",
       "      <th>0</th>\n",
       "      <td>3807</td>\n",
       "      <td>1980</td>\n",
       "    </tr>\n",
       "    <tr>\n",
       "      <th>1</th>\n",
       "      <td>43</td>\n",
       "      <td>170</td>\n",
       "    </tr>\n",
       "  </tbody>\n",
       "</table>\n",
       "</div>\n",
       "      <button class=\"colab-df-convert\" onclick=\"convertToInteractive('df-92194d96-fb01-48e6-bc50-ec4b7e97419e')\"\n",
       "              title=\"Convert this dataframe to an interactive table.\"\n",
       "              style=\"display:none;\">\n",
       "        \n",
       "  <svg xmlns=\"http://www.w3.org/2000/svg\" height=\"24px\"viewBox=\"0 0 24 24\"\n",
       "       width=\"24px\">\n",
       "    <path d=\"M0 0h24v24H0V0z\" fill=\"none\"/>\n",
       "    <path d=\"M18.56 5.44l.94 2.06.94-2.06 2.06-.94-2.06-.94-.94-2.06-.94 2.06-2.06.94zm-11 1L8.5 8.5l.94-2.06 2.06-.94-2.06-.94L8.5 2.5l-.94 2.06-2.06.94zm10 10l.94 2.06.94-2.06 2.06-.94-2.06-.94-.94-2.06-.94 2.06-2.06.94z\"/><path d=\"M17.41 7.96l-1.37-1.37c-.4-.4-.92-.59-1.43-.59-.52 0-1.04.2-1.43.59L10.3 9.45l-7.72 7.72c-.78.78-.78 2.05 0 2.83L4 21.41c.39.39.9.59 1.41.59.51 0 1.02-.2 1.41-.59l7.78-7.78 2.81-2.81c.8-.78.8-2.07 0-2.86zM5.41 20L4 18.59l7.72-7.72 1.47 1.35L5.41 20z\"/>\n",
       "  </svg>\n",
       "      </button>\n",
       "      \n",
       "  <style>\n",
       "    .colab-df-container {\n",
       "      display:flex;\n",
       "      flex-wrap:wrap;\n",
       "      gap: 12px;\n",
       "    }\n",
       "\n",
       "    .colab-df-convert {\n",
       "      background-color: #E8F0FE;\n",
       "      border: none;\n",
       "      border-radius: 50%;\n",
       "      cursor: pointer;\n",
       "      display: none;\n",
       "      fill: #1967D2;\n",
       "      height: 32px;\n",
       "      padding: 0 0 0 0;\n",
       "      width: 32px;\n",
       "    }\n",
       "\n",
       "    .colab-df-convert:hover {\n",
       "      background-color: #E2EBFA;\n",
       "      box-shadow: 0px 1px 2px rgba(60, 64, 67, 0.3), 0px 1px 3px 1px rgba(60, 64, 67, 0.15);\n",
       "      fill: #174EA6;\n",
       "    }\n",
       "\n",
       "    [theme=dark] .colab-df-convert {\n",
       "      background-color: #3B4455;\n",
       "      fill: #D2E3FC;\n",
       "    }\n",
       "\n",
       "    [theme=dark] .colab-df-convert:hover {\n",
       "      background-color: #434B5C;\n",
       "      box-shadow: 0px 1px 3px 1px rgba(0, 0, 0, 0.15);\n",
       "      filter: drop-shadow(0px 1px 2px rgba(0, 0, 0, 0.3));\n",
       "      fill: #FFFFFF;\n",
       "    }\n",
       "  </style>\n",
       "\n",
       "      <script>\n",
       "        const buttonEl =\n",
       "          document.querySelector('#df-92194d96-fb01-48e6-bc50-ec4b7e97419e button.colab-df-convert');\n",
       "        buttonEl.style.display =\n",
       "          google.colab.kernel.accessAllowed ? 'block' : 'none';\n",
       "\n",
       "        async function convertToInteractive(key) {\n",
       "          const element = document.querySelector('#df-92194d96-fb01-48e6-bc50-ec4b7e97419e');\n",
       "          const dataTable =\n",
       "            await google.colab.kernel.invokeFunction('convertToInteractive',\n",
       "                                                     [key], {});\n",
       "          if (!dataTable) return;\n",
       "\n",
       "          const docLinkHtml = 'Like what you see? Visit the ' +\n",
       "            '<a target=\"_blank\" href=https://colab.research.google.com/notebooks/data_table.ipynb>data table notebook</a>'\n",
       "            + ' to learn more about interactive tables.';\n",
       "          element.innerHTML = '';\n",
       "          dataTable['output_type'] = 'display_data';\n",
       "          await google.colab.output.renderOutput(dataTable, element);\n",
       "          const docLink = document.createElement('div');\n",
       "          docLink.innerHTML = docLinkHtml;\n",
       "          element.appendChild(docLink);\n",
       "        }\n",
       "      </script>\n",
       "    </div>\n",
       "  </div>\n",
       "  "
      ],
      "text/plain": [
       "      0     1\n",
       "0  3807  1980\n",
       "1    43   170"
      ]
     },
     "execution_count": 63,
     "metadata": {},
     "output_type": "execute_result"
    }
   ],
   "source": [
    "def confusionMatrix(pred, y):\n",
    "  tp, tn, fp, fn = 0, 0, 0, 0;\n",
    "  for i in range(y.shape[0]):\n",
    "      if(pred[i] == 1 and y[i] ==1):\n",
    "          tn += 1 #OUR CLASS 0 IS POSITIVE CLASS AND CLASS 1 IS NEGATIVE CLASS, SO I DESIGNED CM LIKE THIS.\n",
    "      elif(pred[i] == 0 and y[i] == 0):\n",
    "          tp += 1\n",
    "      elif(pred[i] == 1 and y[i] == 0):\n",
    "          fn += 1\n",
    "      elif(pred[i] == 0 and y[i] == 1):\n",
    "          fp += 1\n",
    "  conf_matrix = pd.DataFrame([[tp, fp],[fn, tn]])\n",
    "  print(tp,tn,fp,fn)\n",
    "  return conf_matrix\n",
    "\n",
    "fb_prediction = prediction(validation_features_arr, w3)\n",
    "confusionMatrix(fb_prediction, validation_labels_arr)\n"
   ]
  },
  {
   "cell_type": "markdown",
   "metadata": {
    "id": "WaxyqSN5Rxs1"
   },
   "source": [
    "Uniformly distributed weight"
   ]
  },
  {
   "cell_type": "code",
   "execution_count": 65,
   "metadata": {
    "colab": {
     "base_uri": "https://localhost:8080/"
    },
    "id": "GRI6j_VLQTtF",
    "outputId": "81911d3f-0197-4e14-fcba-1b05ee7eda4d"
   },
   "outputs": [
    {
     "name": "stdout",
     "output_type": "stream",
     "text": [
      "Acc:  0.6466666666666666 Time:  3.9756622314453125\n"
     ]
    }
   ],
   "source": [
    "w4 = np.random.uniform(size=(train_features.shape[1],1))\n",
    "\n",
    "arr4 = np.zeros((iterationNo))\n",
    "\n",
    "s4 = time.time()\n",
    "miniBatchExp(batch_size, iterationNo, w4, arr4, 10**-3) \n",
    "e4 = time.time()\n",
    "\n",
    "print(\"Acc: \", arr4.max(), \"Time: \", e4 - s4)"
   ]
  },
  {
   "cell_type": "code",
   "execution_count": 72,
   "metadata": {
    "colab": {
     "base_uri": "https://localhost:8080/",
     "height": 331
    },
    "id": "guRCYJG4y63w",
    "outputId": "0bfd46d5-2f18-4d41-ffd9-63a908916083"
   },
   "outputs": [
    {
     "name": "stderr",
     "output_type": "stream",
     "text": [
      "WARNING:matplotlib.legend:No handles with labels found to put in legend.\n",
      "WARNING:matplotlib.legend:No handles with labels found to put in legend.\n"
     ]
    },
    {
     "data": {
      "image/png": "[encoded data removed]",
      "text/plain": [
       "<Figure size 432x288 with 1 Axes>"
      ]
     },
     "metadata": {
      "needs_background": "light"
     },
     "output_type": "display_data"
    }
   ],
   "source": [
    "import matplotlib.pyplot as plt\n",
    "\n",
    "x = np.arange(1, 101)\n",
    "y = arr4\n",
    "\n",
    "plt.title(\"Performance Plot based on Weight = Uniform\")\n",
    "plt.ylabel(\"Validation Accuracy\")\n",
    "plt.xlabel(\"Number of epoch\")\n",
    "plt.plot(x, y, color =\"blue\")\n",
    "plt.legend()\n",
    "plt.legend(title=' Mini Batch Batch Gradient Ascent Plot')\n",
    "plt.show()"
   ]
  },
  {
   "cell_type": "markdown",
   "metadata": {
    "id": "l5mox0TISeGU"
   },
   "source": [
    "Zero Weight"
   ]
  },
  {
   "cell_type": "code",
   "execution_count": 73,
   "metadata": {
    "colab": {
     "base_uri": "https://localhost:8080/"
    },
    "id": "PxdBjGIXSf1L",
    "outputId": "727d5f30-e788-40a8-de1a-4df799eeae67"
   },
   "outputs": [
    {
     "name": "stdout",
     "output_type": "stream",
     "text": [
      "Acc:  0.6533333333333333 Time:  4.676999807357788\n"
     ]
    }
   ],
   "source": [
    "w5 = np.zeros((train_features.shape[1],1))\n",
    "\n",
    "arr5 = np.zeros((iterationNo))\n",
    "\n",
    "s5 = time.time()\n",
    "miniBatchExp(batch_size, iterationNo, w5, arr5, 10**-3) \n",
    "e5 = time.time()\n",
    "\n",
    "print(\"Acc: \", arr5.max(), \"Time: \", e5 - s5)\n",
    "\n"
   ]
  },
  {
   "cell_type": "code",
   "execution_count": 74,
   "metadata": {
    "colab": {
     "base_uri": "https://localhost:8080/",
     "height": 331
    },
    "id": "T2UJFELh1r-Y",
    "outputId": "d690588b-16ea-4b48-bbcf-44d9fde9bdfa"
   },
   "outputs": [
    {
     "name": "stderr",
     "output_type": "stream",
     "text": [
      "WARNING:matplotlib.legend:No handles with labels found to put in legend.\n",
      "WARNING:matplotlib.legend:No handles with labels found to put in legend.\n"
     ]
    },
    {
     "data": {
      "image/png": "[encoded data removed]",
      "text/plain": [
       "<Figure size 432x288 with 1 Axes>"
      ]
     },
     "metadata": {
      "needs_background": "light"
     },
     "output_type": "display_data"
    }
   ],
   "source": [
    "import matplotlib.pyplot as plt\n",
    "\n",
    "x = np.arange(1, 101)\n",
    "y = arr5\n",
    "\n",
    "plt.title(\"Performance Plot based on Weigt = Zero Weight\")\n",
    "plt.ylabel(\"Validation Accuracy\")\n",
    "plt.xlabel(\"Number of epoch\")\n",
    "plt.plot(x, y, color =\"blue\")\n",
    "plt.legend()\n",
    "plt.legend(title='Mini Batch Batch Gradient Ascent Plot')\n",
    "plt.show()"
   ]
  },
  {
   "cell_type": "markdown",
   "metadata": {
    "id": "Wm-rpEf3W409"
   },
   "source": [
    "The best is Gaussian, therefore its confusion matrix will be displayed."
   ]
  },
  {
   "cell_type": "code",
   "execution_count": 75,
   "metadata": {
    "colab": {
     "base_uri": "https://localhost:8080/",
     "height": 130
    },
    "id": "UQ9OrhauW7tD",
    "outputId": "c734d71d-457a-4986-8a8c-97124de1855c"
   },
   "outputs": [
    {
     "name": "stdout",
     "output_type": "stream",
     "text": [
      "3813 161 1989 37\n"
     ]
    },
    {
     "data": {
      "text/html": [
       "\n",
       "  <div id=\"df-1eb40059-bfcd-402a-be60-a5e2a58427cf\">\n",
       "    <div class=\"colab-df-container\">\n",
       "      <div>\n",
       "<style scoped>\n",
       "    .dataframe tbody tr th:only-of-type {\n",
       "        vertical-align: middle;\n",
       "    }\n",
       "\n",
       "    .dataframe tbody tr th {\n",
       "        vertical-align: top;\n",
       "    }\n",
       "\n",
       "    .dataframe thead th {\n",
       "        text-align: right;\n",
       "    }\n",
       "</style>\n",
       "<table border=\"1\" class=\"dataframe\">\n",
       "  <thead>\n",
       "    <tr style=\"text-align: right;\">\n",
       "      <th></th>\n",
       "      <th>0</th>\n",
       "      <th>1</th>\n",
       "    </tr>\n",
       "  </thead>\n",
       "  <tbody>\n",
       "    <tr>\n",
       "      <th>0</th>\n",
       "      <td>3813</td>\n",
       "      <td>1989</td>\n",
       "    </tr>\n",
       "    <tr>\n",
       "      <th>1</th>\n",
       "      <td>37</td>\n",
       "      <td>161</td>\n",
       "    </tr>\n",
       "  </tbody>\n",
       "</table>\n",
       "</div>\n",
       "      <button class=\"colab-df-convert\" onclick=\"convertToInteractive('df-1eb40059-bfcd-402a-be60-a5e2a58427cf')\"\n",
       "              title=\"Convert this dataframe to an interactive table.\"\n",
       "              style=\"display:none;\">\n",
       "        \n",
       "  <svg xmlns=\"http://www.w3.org/2000/svg\" height=\"24px\"viewBox=\"0 0 24 24\"\n",
       "       width=\"24px\">\n",
       "    <path d=\"M0 0h24v24H0V0z\" fill=\"none\"/>\n",
       "    <path d=\"M18.56 5.44l.94 2.06.94-2.06 2.06-.94-2.06-.94-.94-2.06-.94 2.06-2.06.94zm-11 1L8.5 8.5l.94-2.06 2.06-.94-2.06-.94L8.5 2.5l-.94 2.06-2.06.94zm10 10l.94 2.06.94-2.06 2.06-.94-2.06-.94-.94-2.06-.94 2.06-2.06.94z\"/><path d=\"M17.41 7.96l-1.37-1.37c-.4-.4-.92-.59-1.43-.59-.52 0-1.04.2-1.43.59L10.3 9.45l-7.72 7.72c-.78.78-.78 2.05 0 2.83L4 21.41c.39.39.9.59 1.41.59.51 0 1.02-.2 1.41-.59l7.78-7.78 2.81-2.81c.8-.78.8-2.07 0-2.86zM5.41 20L4 18.59l7.72-7.72 1.47 1.35L5.41 20z\"/>\n",
       "  </svg>\n",
       "      </button>\n",
       "      \n",
       "  <style>\n",
       "    .colab-df-container {\n",
       "      display:flex;\n",
       "      flex-wrap:wrap;\n",
       "      gap: 12px;\n",
       "    }\n",
       "\n",
       "    .colab-df-convert {\n",
       "      background-color: #E8F0FE;\n",
       "      border: none;\n",
       "      border-radius: 50%;\n",
       "      cursor: pointer;\n",
       "      display: none;\n",
       "      fill: #1967D2;\n",
       "      height: 32px;\n",
       "      padding: 0 0 0 0;\n",
       "      width: 32px;\n",
       "    }\n",
       "\n",
       "    .colab-df-convert:hover {\n",
       "      background-color: #E2EBFA;\n",
       "      box-shadow: 0px 1px 2px rgba(60, 64, 67, 0.3), 0px 1px 3px 1px rgba(60, 64, 67, 0.15);\n",
       "      fill: #174EA6;\n",
       "    }\n",
       "\n",
       "    [theme=dark] .colab-df-convert {\n",
       "      background-color: #3B4455;\n",
       "      fill: #D2E3FC;\n",
       "    }\n",
       "\n",
       "    [theme=dark] .colab-df-convert:hover {\n",
       "      background-color: #434B5C;\n",
       "      box-shadow: 0px 1px 3px 1px rgba(0, 0, 0, 0.15);\n",
       "      filter: drop-shadow(0px 1px 2px rgba(0, 0, 0, 0.3));\n",
       "      fill: #FFFFFF;\n",
       "    }\n",
       "  </style>\n",
       "\n",
       "      <script>\n",
       "        const buttonEl =\n",
       "          document.querySelector('#df-1eb40059-bfcd-402a-be60-a5e2a58427cf button.colab-df-convert');\n",
       "        buttonEl.style.display =\n",
       "          google.colab.kernel.accessAllowed ? 'block' : 'none';\n",
       "\n",
       "        async function convertToInteractive(key) {\n",
       "          const element = document.querySelector('#df-1eb40059-bfcd-402a-be60-a5e2a58427cf');\n",
       "          const dataTable =\n",
       "            await google.colab.kernel.invokeFunction('convertToInteractive',\n",
       "                                                     [key], {});\n",
       "          if (!dataTable) return;\n",
       "\n",
       "          const docLinkHtml = 'Like what you see? Visit the ' +\n",
       "            '<a target=\"_blank\" href=https://colab.research.google.com/notebooks/data_table.ipynb>data table notebook</a>'\n",
       "            + ' to learn more about interactive tables.';\n",
       "          element.innerHTML = '';\n",
       "          dataTable['output_type'] = 'display_data';\n",
       "          await google.colab.output.renderOutput(dataTable, element);\n",
       "          const docLink = document.createElement('div');\n",
       "          docLink.innerHTML = docLinkHtml;\n",
       "          element.appendChild(docLink);\n",
       "        }\n",
       "      </script>\n",
       "    </div>\n",
       "  </div>\n",
       "  "
      ],
      "text/plain": [
       "      0     1\n",
       "0  3813  1989\n",
       "1    37   161"
      ]
     },
     "execution_count": 75,
     "metadata": {},
     "output_type": "execute_result"
    }
   ],
   "source": [
    "mb_gaussian_prediction = prediction(validation_features_arr, w1)\n",
    "confusionMatrix(mb_gaussian_prediction, validation_labels_arr)\n",
    "\n",
    "#GAUUSSIAN DISTRIBUTION IS ALREADY DISPLAYED IN QUESTION 1 - CONFUSION MATRIX"
   ]
  },
  {
   "cell_type": "markdown",
   "metadata": {
    "id": "nY_p3IoOXKyu"
   },
   "source": [
    "Different Learning Rates"
   ]
  },
  {
   "cell_type": "code",
   "execution_count": 76,
   "metadata": {
    "id": "UzSaxrv5XX9H"
   },
   "outputs": [],
   "source": [
    "def loglikelihood(weights,features,y):\n",
    "  z = np.matmul(features,weights)\n",
    "  return np.sum(np.multiply(y,z) - np.log(1+np.exp(z)))"
   ]
  },
  {
   "cell_type": "code",
   "execution_count": 77,
   "metadata": {
    "colab": {
     "base_uri": "https://localhost:8080/"
    },
    "id": "I3Pn1aFxtycp",
    "outputId": "5d081ff2-bb2f-467b-e4f6-386feb9e6193"
   },
   "outputs": [
    {
     "name": "stderr",
     "output_type": "stream",
     "text": [
      "<ipython-input-38-a5cbce557ae8>:2: RuntimeWarning: overflow encountered in exp\n",
      "  z = np.exp(-1*np.matmul(features,weights))\n"
     ]
    }
   ],
   "source": [
    "wTemp = np.zeros((train_features_arr.shape[1],1))\n",
    "lRates = np.array([1, 10**-3, 10**-4, 10**-5])\n",
    "weights = np.zeros((train_features_arr.shape[1], lRates.shape[0]))\n",
    "cnt = 0\n",
    "for rate in lRates:\n",
    "    for i in range(iterationNo):\n",
    "        wTemp += rate * ascent(train_features_arr,wTemp,train_labels_arr)\n",
    "    weights[:,cnt] = wTemp.reshape(train_features_arr.shape[1])\n",
    "    cnt+=1\n",
    "    \n",
    "    wTemp = np.zeros((train_features_arr.shape[1],1))"
   ]
  },
  {
   "cell_type": "code",
   "execution_count": 78,
   "metadata": {
    "colab": {
     "base_uri": "https://localhost:8080/"
    },
    "id": "RUyyEUnDtye4",
    "outputId": "46edaf33-4246-4720-b392-06a57de26c41"
   },
   "outputs": [
    {
     "name": "stdout",
     "output_type": "stream",
     "text": [
      "The best learning rate:  0.0001\n"
     ]
    },
    {
     "name": "stderr",
     "output_type": "stream",
     "text": [
      "<ipython-input-76-c2dd69c2ccfc>:3: RuntimeWarning: overflow encountered in exp\n",
      "  return np.sum(np.multiply(y,z) - np.log(1+np.exp(z)))\n"
     ]
    }
   ],
   "source": [
    "likes = np.zeros((weights.shape[1],1))\n",
    "for i in range(weights.shape[1]):\n",
    "    likes[i] = loglikelihood(weights[:,i].reshape((weights.shape[0],1)),train_features_arr,train_labels_arr)\n",
    "\n",
    "bestRate = lRates[np.argmax(likes)]\n",
    "print(\"The best learning rate: \", bestRate)"
   ]
  },
  {
   "cell_type": "code",
   "execution_count": 80,
   "metadata": {
    "colab": {
     "base_uri": "https://localhost:8080/",
     "height": 350
    },
    "id": "eL99V4J7XpJs",
    "outputId": "9973692e-dc8a-4796-c942-4c87cc450616"
   },
   "outputs": [
    {
     "name": "stderr",
     "output_type": "stream",
     "text": [
      "WARNING:matplotlib.legend:No handles with labels found to put in legend.\n",
      "WARNING:matplotlib.legend:No handles with labels found to put in legend.\n"
     ]
    },
    {
     "name": "stdout",
     "output_type": "stream",
     "text": [
      "Acc:  0.6416666666666667\n"
     ]
    },
    {
     "data": {
      "image/png": "[encoded data removed]",
      "text/plain": [
       "<Figure size 432x288 with 1 Axes>"
      ]
     },
     "metadata": {
      "needs_background": "light"
     },
     "output_type": "display_data"
    }
   ],
   "source": [
    "w6 = np.random.normal(size=(train_features.shape[1],1))\n",
    "\n",
    "arr6 = np.zeros((iterationNo))\n",
    "\n",
    "s6 = time.time()\n",
    "miniBatchExp(batch_size, iterationNo, w6, arr6, 1) \n",
    "e6 = time.time()\n",
    "\n",
    "print(\"Acc: \", arr6[-1])\n",
    "\n",
    "import matplotlib.pyplot as plt\n",
    "\n",
    "x = np.arange(1, 101)\n",
    "y = arr6\n",
    "\n",
    "plt.title(\"Performance Plot based on Weigt = Zero Weight\")\n",
    "plt.ylabel(\"Validation Accuracy\")\n",
    "plt.xlabel(\"Number of epoch\")\n",
    "plt.plot(x, y, color =\"blue\")\n",
    "plt.legend()\n",
    "plt.legend(title='Mini Batch Batch Gradient Ascent Plot')\n",
    "plt.show()"
   ]
  },
  {
   "cell_type": "code",
   "execution_count": 81,
   "metadata": {
    "colab": {
     "base_uri": "https://localhost:8080/",
     "height": 350
    },
    "id": "MJllwWd7X0EO",
    "outputId": "c0eb82c6-639f-44b7-bd06-f1c186729315"
   },
   "outputs": [
    {
     "name": "stderr",
     "output_type": "stream",
     "text": [
      "WARNING:matplotlib.legend:No handles with labels found to put in legend.\n",
      "WARNING:matplotlib.legend:No handles with labels found to put in legend.\n"
     ]
    },
    {
     "name": "stdout",
     "output_type": "stream",
     "text": [
      "Acc:  0.6623333333333333\n"
     ]
    },
    {
     "data": {
      "image/png": "[encoded data removed]",
      "text/plain": [
       "<Figure size 432x288 with 1 Axes>"
      ]
     },
     "metadata": {
      "needs_background": "light"
     },
     "output_type": "display_data"
    }
   ],
   "source": [
    "w7 = np.random.normal(size=(train_features.shape[1],1))\n",
    "\n",
    "arr7 = np.zeros((iterationNo))\n",
    "\n",
    "s7 = time.time()\n",
    "miniBatchExp(batch_size, iterationNo, w7, arr7, 10**-3) \n",
    "e7 = time.time()\n",
    "\n",
    "print(\"Acc: \", arr7[-1])\n",
    "\n",
    "import matplotlib.pyplot as plt\n",
    "\n",
    "x = np.arange(1, 101)\n",
    "y = arr7\n",
    "\n",
    "plt.title(\"Performance Plot based on Weigt = Zero Weight\")\n",
    "plt.ylabel(\"Validation Accuracy\")\n",
    "plt.xlabel(\"Number of epoch\")\n",
    "plt.plot(x, y, color =\"blue\")\n",
    "plt.legend()\n",
    "plt.legend(title='Mini Batch Batch Gradient Ascent Plot')\n",
    "plt.show()"
   ]
  },
  {
   "cell_type": "code",
   "execution_count": 82,
   "metadata": {
    "colab": {
     "base_uri": "https://localhost:8080/",
     "height": 350
    },
    "id": "4QRxYWkEX7qi",
    "outputId": "95dbb2b4-bf6e-4465-b56d-efa90379d61b"
   },
   "outputs": [
    {
     "name": "stderr",
     "output_type": "stream",
     "text": [
      "WARNING:matplotlib.legend:No handles with labels found to put in legend.\n",
      "WARNING:matplotlib.legend:No handles with labels found to put in legend.\n"
     ]
    },
    {
     "name": "stdout",
     "output_type": "stream",
     "text": [
      "Acc:  0.676\n"
     ]
    },
    {
     "data": {
      "image/png": "[encoded data removed]",
      "text/plain": [
       "<Figure size 432x288 with 1 Axes>"
      ]
     },
     "metadata": {
      "needs_background": "light"
     },
     "output_type": "display_data"
    }
   ],
   "source": [
    "w8 = np.random.normal(size=(train_features.shape[1],1))\n",
    "\n",
    "arr8 = np.zeros((iterationNo))\n",
    "\n",
    "s8 = time.time()\n",
    "miniBatchExp(batch_size, iterationNo, w8, arr8, 10**-4) \n",
    "e8 = time.time()\n",
    "\n",
    "print(\"Acc: \", arr8[-1],)\n",
    "\n",
    "import matplotlib.pyplot as plt\n",
    "\n",
    "x = np.arange(1, 101)\n",
    "y = arr8\n",
    "\n",
    "plt.title(\"Performance Plot based on Weigt = Zero Weight\")\n",
    "plt.ylabel(\"Validation Accuracy\")\n",
    "plt.xlabel(\"Number of epoch\")\n",
    "plt.plot(x, y, color =\"blue\")\n",
    "plt.legend()\n",
    "plt.legend(title='Mini Batch Batch Gradient Ascent Plot')\n",
    "plt.show()"
   ]
  },
  {
   "cell_type": "code",
   "execution_count": 83,
   "metadata": {
    "colab": {
     "base_uri": "https://localhost:8080/",
     "height": 350
    },
    "id": "c8n8TldMX_bI",
    "outputId": "5ab6e25d-0d22-4d46-e29a-9ff32767493c"
   },
   "outputs": [
    {
     "name": "stderr",
     "output_type": "stream",
     "text": [
      "WARNING:matplotlib.legend:No handles with labels found to put in legend.\n",
      "WARNING:matplotlib.legend:No handles with labels found to put in legend.\n"
     ]
    },
    {
     "name": "stdout",
     "output_type": "stream",
     "text": [
      "Acc:  0.6416666666666667\n"
     ]
    },
    {
     "data": {
      "image/png": "[encoded data removed]",
      "text/plain": [
       "<Figure size 432x288 with 1 Axes>"
      ]
     },
     "metadata": {
      "needs_background": "light"
     },
     "output_type": "display_data"
    }
   ],
   "source": [
    "w9 = np.random.normal(size=(train_features.shape[1],1))\n",
    "\n",
    "arr9 = np.zeros((iterationNo))\n",
    "\n",
    "s9 = time.time()\n",
    "miniBatchExp(batch_size, iterationNo, w9, arr9, 10**-5) \n",
    "e9 = time.time()\n",
    "\n",
    "print(\"Acc: \", arr9[-1])\n",
    "\n",
    "import matplotlib.pyplot as plt\n",
    "\n",
    "x = np.arange(1, 101)\n",
    "y = arr9\n",
    "\n",
    "plt.title(\"Performance Plot based on Weigt = Zero Weight\")\n",
    "plt.ylabel(\"Validation Accuracy\")\n",
    "plt.xlabel(\"Number of epoch\")\n",
    "plt.plot(x, y, color =\"blue\")\n",
    "plt.legend()\n",
    "plt.legend(title='Mini Batch Batch Gradient Ascent Plot')\n",
    "plt.show()"
   ]
  },
  {
   "cell_type": "markdown",
   "metadata": {
    "id": "1Lleh_7jYY_R"
   },
   "source": [
    "The best learning rate 10^-4"
   ]
  },
  {
   "cell_type": "code",
   "execution_count": 84,
   "metadata": {
    "colab": {
     "base_uri": "https://localhost:8080/",
     "height": 130
    },
    "id": "uj1L4dFzZGoA",
    "outputId": "544a6831-4547-475e-946a-cc0c15e039a9"
   },
   "outputs": [
    {
     "name": "stdout",
     "output_type": "stream",
     "text": [
      "3629 427 1723 221\n"
     ]
    },
    {
     "data": {
      "text/html": [
       "\n",
       "  <div id=\"df-b8651c66-c9f8-4bf4-82a7-39b1b36f7c39\">\n",
       "    <div class=\"colab-df-container\">\n",
       "      <div>\n",
       "<style scoped>\n",
       "    .dataframe tbody tr th:only-of-type {\n",
       "        vertical-align: middle;\n",
       "    }\n",
       "\n",
       "    .dataframe tbody tr th {\n",
       "        vertical-align: top;\n",
       "    }\n",
       "\n",
       "    .dataframe thead th {\n",
       "        text-align: right;\n",
       "    }\n",
       "</style>\n",
       "<table border=\"1\" class=\"dataframe\">\n",
       "  <thead>\n",
       "    <tr style=\"text-align: right;\">\n",
       "      <th></th>\n",
       "      <th>0</th>\n",
       "      <th>1</th>\n",
       "    </tr>\n",
       "  </thead>\n",
       "  <tbody>\n",
       "    <tr>\n",
       "      <th>0</th>\n",
       "      <td>3629</td>\n",
       "      <td>1723</td>\n",
       "    </tr>\n",
       "    <tr>\n",
       "      <th>1</th>\n",
       "      <td>221</td>\n",
       "      <td>427</td>\n",
       "    </tr>\n",
       "  </tbody>\n",
       "</table>\n",
       "</div>\n",
       "      <button class=\"colab-df-convert\" onclick=\"convertToInteractive('df-b8651c66-c9f8-4bf4-82a7-39b1b36f7c39')\"\n",
       "              title=\"Convert this dataframe to an interactive table.\"\n",
       "              style=\"display:none;\">\n",
       "        \n",
       "  <svg xmlns=\"http://www.w3.org/2000/svg\" height=\"24px\"viewBox=\"0 0 24 24\"\n",
       "       width=\"24px\">\n",
       "    <path d=\"M0 0h24v24H0V0z\" fill=\"none\"/>\n",
       "    <path d=\"M18.56 5.44l.94 2.06.94-2.06 2.06-.94-2.06-.94-.94-2.06-.94 2.06-2.06.94zm-11 1L8.5 8.5l.94-2.06 2.06-.94-2.06-.94L8.5 2.5l-.94 2.06-2.06.94zm10 10l.94 2.06.94-2.06 2.06-.94-2.06-.94-.94-2.06-.94 2.06-2.06.94z\"/><path d=\"M17.41 7.96l-1.37-1.37c-.4-.4-.92-.59-1.43-.59-.52 0-1.04.2-1.43.59L10.3 9.45l-7.72 7.72c-.78.78-.78 2.05 0 2.83L4 21.41c.39.39.9.59 1.41.59.51 0 1.02-.2 1.41-.59l7.78-7.78 2.81-2.81c.8-.78.8-2.07 0-2.86zM5.41 20L4 18.59l7.72-7.72 1.47 1.35L5.41 20z\"/>\n",
       "  </svg>\n",
       "      </button>\n",
       "      \n",
       "  <style>\n",
       "    .colab-df-container {\n",
       "      display:flex;\n",
       "      flex-wrap:wrap;\n",
       "      gap: 12px;\n",
       "    }\n",
       "\n",
       "    .colab-df-convert {\n",
       "      background-color: #E8F0FE;\n",
       "      border: none;\n",
       "      border-radius: 50%;\n",
       "      cursor: pointer;\n",
       "      display: none;\n",
       "      fill: #1967D2;\n",
       "      height: 32px;\n",
       "      padding: 0 0 0 0;\n",
       "      width: 32px;\n",
       "    }\n",
       "\n",
       "    .colab-df-convert:hover {\n",
       "      background-color: #E2EBFA;\n",
       "      box-shadow: 0px 1px 2px rgba(60, 64, 67, 0.3), 0px 1px 3px 1px rgba(60, 64, 67, 0.15);\n",
       "      fill: #174EA6;\n",
       "    }\n",
       "\n",
       "    [theme=dark] .colab-df-convert {\n",
       "      background-color: #3B4455;\n",
       "      fill: #D2E3FC;\n",
       "    }\n",
       "\n",
       "    [theme=dark] .colab-df-convert:hover {\n",
       "      background-color: #434B5C;\n",
       "      box-shadow: 0px 1px 3px 1px rgba(0, 0, 0, 0.15);\n",
       "      filter: drop-shadow(0px 1px 2px rgba(0, 0, 0, 0.3));\n",
       "      fill: #FFFFFF;\n",
       "    }\n",
       "  </style>\n",
       "\n",
       "      <script>\n",
       "        const buttonEl =\n",
       "          document.querySelector('#df-b8651c66-c9f8-4bf4-82a7-39b1b36f7c39 button.colab-df-convert');\n",
       "        buttonEl.style.display =\n",
       "          google.colab.kernel.accessAllowed ? 'block' : 'none';\n",
       "\n",
       "        async function convertToInteractive(key) {\n",
       "          const element = document.querySelector('#df-b8651c66-c9f8-4bf4-82a7-39b1b36f7c39');\n",
       "          const dataTable =\n",
       "            await google.colab.kernel.invokeFunction('convertToInteractive',\n",
       "                                                     [key], {});\n",
       "          if (!dataTable) return;\n",
       "\n",
       "          const docLinkHtml = 'Like what you see? Visit the ' +\n",
       "            '<a target=\"_blank\" href=https://colab.research.google.com/notebooks/data_table.ipynb>data table notebook</a>'\n",
       "            + ' to learn more about interactive tables.';\n",
       "          element.innerHTML = '';\n",
       "          dataTable['output_type'] = 'display_data';\n",
       "          await google.colab.output.renderOutput(dataTable, element);\n",
       "          const docLink = document.createElement('div');\n",
       "          docLink.innerHTML = docLinkHtml;\n",
       "          element.appendChild(docLink);\n",
       "        }\n",
       "      </script>\n",
       "    </div>\n",
       "  </div>\n",
       "  "
      ],
      "text/plain": [
       "      0     1\n",
       "0  3629  1723\n",
       "1   221   427"
      ]
     },
     "execution_count": 84,
     "metadata": {},
     "output_type": "execute_result"
    }
   ],
   "source": [
    "lR_prediction = prediction(validation_features_arr, w8)\n",
    "confusionMatrix(lR_prediction, validation_labels_arr)\n",
    "\n"
   ]
  },
  {
   "cell_type": "markdown",
   "metadata": {
    "id": "xxO7l6PFY9Px"
   },
   "source": [
    "Best Parameters"
   ]
  },
  {
   "cell_type": "markdown",
   "metadata": {
    "id": "kvDf6vuRY_9M"
   },
   "source": [
    "10^-4, gaussian, full batch"
   ]
  },
  {
   "cell_type": "code",
   "execution_count": 88,
   "metadata": {
    "colab": {
     "base_uri": "https://localhost:8080/",
     "height": 185
    },
    "id": "1GU9Ki9XZhWa",
    "outputId": "fde77968-bb72-42b7-f2e8-5b66217e140c"
   },
   "outputs": [
    {
     "name": "stderr",
     "output_type": "stream",
     "text": [
      "<ipython-input-38-a5cbce557ae8>:2: RuntimeWarning: overflow encountered in exp\n",
      "  z = np.exp(-1*np.matmul(features,weights))\n"
     ]
    },
    {
     "name": "stdout",
     "output_type": "stream",
     "text": [
      "Acc:  0.6891666666666667 Time:  4.163820028305054\n",
      "3826 127 2023 24\n"
     ]
    },
    {
     "data": {
      "text/html": [
       "\n",
       "  <div id=\"df-ec2a8fa8-5cb5-45e7-909c-13eb3d4a94a1\">\n",
       "    <div class=\"colab-df-container\">\n",
       "      <div>\n",
       "<style scoped>\n",
       "    .dataframe tbody tr th:only-of-type {\n",
       "        vertical-align: middle;\n",
       "    }\n",
       "\n",
       "    .dataframe tbody tr th {\n",
       "        vertical-align: top;\n",
       "    }\n",
       "\n",
       "    .dataframe thead th {\n",
       "        text-align: right;\n",
       "    }\n",
       "</style>\n",
       "<table border=\"1\" class=\"dataframe\">\n",
       "  <thead>\n",
       "    <tr style=\"text-align: right;\">\n",
       "      <th></th>\n",
       "      <th>0</th>\n",
       "      <th>1</th>\n",
       "    </tr>\n",
       "  </thead>\n",
       "  <tbody>\n",
       "    <tr>\n",
       "      <th>0</th>\n",
       "      <td>3826</td>\n",
       "      <td>2023</td>\n",
       "    </tr>\n",
       "    <tr>\n",
       "      <th>1</th>\n",
       "      <td>24</td>\n",
       "      <td>127</td>\n",
       "    </tr>\n",
       "  </tbody>\n",
       "</table>\n",
       "</div>\n",
       "      <button class=\"colab-df-convert\" onclick=\"convertToInteractive('df-ec2a8fa8-5cb5-45e7-909c-13eb3d4a94a1')\"\n",
       "              title=\"Convert this dataframe to an interactive table.\"\n",
       "              style=\"display:none;\">\n",
       "        \n",
       "  <svg xmlns=\"http://www.w3.org/2000/svg\" height=\"24px\"viewBox=\"0 0 24 24\"\n",
       "       width=\"24px\">\n",
       "    <path d=\"M0 0h24v24H0V0z\" fill=\"none\"/>\n",
       "    <path d=\"M18.56 5.44l.94 2.06.94-2.06 2.06-.94-2.06-.94-.94-2.06-.94 2.06-2.06.94zm-11 1L8.5 8.5l.94-2.06 2.06-.94-2.06-.94L8.5 2.5l-.94 2.06-2.06.94zm10 10l.94 2.06.94-2.06 2.06-.94-2.06-.94-.94-2.06-.94 2.06-2.06.94z\"/><path d=\"M17.41 7.96l-1.37-1.37c-.4-.4-.92-.59-1.43-.59-.52 0-1.04.2-1.43.59L10.3 9.45l-7.72 7.72c-.78.78-.78 2.05 0 2.83L4 21.41c.39.39.9.59 1.41.59.51 0 1.02-.2 1.41-.59l7.78-7.78 2.81-2.81c.8-.78.8-2.07 0-2.86zM5.41 20L4 18.59l7.72-7.72 1.47 1.35L5.41 20z\"/>\n",
       "  </svg>\n",
       "      </button>\n",
       "      \n",
       "  <style>\n",
       "    .colab-df-container {\n",
       "      display:flex;\n",
       "      flex-wrap:wrap;\n",
       "      gap: 12px;\n",
       "    }\n",
       "\n",
       "    .colab-df-convert {\n",
       "      background-color: #E8F0FE;\n",
       "      border: none;\n",
       "      border-radius: 50%;\n",
       "      cursor: pointer;\n",
       "      display: none;\n",
       "      fill: #1967D2;\n",
       "      height: 32px;\n",
       "      padding: 0 0 0 0;\n",
       "      width: 32px;\n",
       "    }\n",
       "\n",
       "    .colab-df-convert:hover {\n",
       "      background-color: #E2EBFA;\n",
       "      box-shadow: 0px 1px 2px rgba(60, 64, 67, 0.3), 0px 1px 3px 1px rgba(60, 64, 67, 0.15);\n",
       "      fill: #174EA6;\n",
       "    }\n",
       "\n",
       "    [theme=dark] .colab-df-convert {\n",
       "      background-color: #3B4455;\n",
       "      fill: #D2E3FC;\n",
       "    }\n",
       "\n",
       "    [theme=dark] .colab-df-convert:hover {\n",
       "      background-color: #434B5C;\n",
       "      box-shadow: 0px 1px 3px 1px rgba(0, 0, 0, 0.15);\n",
       "      filter: drop-shadow(0px 1px 2px rgba(0, 0, 0, 0.3));\n",
       "      fill: #FFFFFF;\n",
       "    }\n",
       "  </style>\n",
       "\n",
       "      <script>\n",
       "        const buttonEl =\n",
       "          document.querySelector('#df-ec2a8fa8-5cb5-45e7-909c-13eb3d4a94a1 button.colab-df-convert');\n",
       "        buttonEl.style.display =\n",
       "          google.colab.kernel.accessAllowed ? 'block' : 'none';\n",
       "\n",
       "        async function convertToInteractive(key) {\n",
       "          const element = document.querySelector('#df-ec2a8fa8-5cb5-45e7-909c-13eb3d4a94a1');\n",
       "          const dataTable =\n",
       "            await google.colab.kernel.invokeFunction('convertToInteractive',\n",
       "                                                     [key], {});\n",
       "          if (!dataTable) return;\n",
       "\n",
       "          const docLinkHtml = 'Like what you see? Visit the ' +\n",
       "            '<a target=\"_blank\" href=https://colab.research.google.com/notebooks/data_table.ipynb>data table notebook</a>'\n",
       "            + ' to learn more about interactive tables.';\n",
       "          element.innerHTML = '';\n",
       "          dataTable['output_type'] = 'display_data';\n",
       "          await google.colab.output.renderOutput(dataTable, element);\n",
       "          const docLink = document.createElement('div');\n",
       "          docLink.innerHTML = docLinkHtml;\n",
       "          element.appendChild(docLink);\n",
       "        }\n",
       "      </script>\n",
       "    </div>\n",
       "  </div>\n",
       "  "
      ],
      "text/plain": [
       "      0     1\n",
       "0  3826  2023\n",
       "1    24   127"
      ]
     },
     "execution_count": 88,
     "metadata": {},
     "output_type": "execute_result"
    }
   ],
   "source": [
    "w10 = np.random.normal(0, 1, size=(train_features.shape[1],1))\n",
    "\n",
    "arr10 = np.zeros((iterationNo))\n",
    "\n",
    "s10 = time.time()\n",
    "fullBatch(iterationNo, w10, arr10, 10 ** -4)\n",
    "e10 = time.time()\n",
    "\n",
    "print(\"Acc: \", arr10.max(), \"Time: \", e10 - s10)\n",
    "\n",
    "\n",
    "\n",
    "fb_prediction = prediction(validation_features_arr, w10)\n",
    "confusionMatrix(fb_prediction, validation_labels_arr)\n"
   ]
  }
 ],
 "metadata": {
  "accelerator": "GPU",
  "colab": {
   "machine_shape": "hm",
   "provenance": []
  },
  "gpuClass": "premium",
  "kernelspec": {
   "display_name": "Python 3 (ipykernel)",
   "language": "python",
   "name": "python3"
  },
  "language_info": {
   "codemirror_mode": {
    "name": "ipython",
    "version": 3
   },
   "file_extension": ".py",
   "mimetype": "text/x-python",
   "name": "python",
   "nbconvert_exporter": "python",
   "pygments_lexer": "ipython3",
   "version": "3.9.7"
  }
 },
 "nbformat": 4,
 "nbformat_minor": 1
}
